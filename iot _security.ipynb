{
  "nbformat": 4,
  "nbformat_minor": 0,
  "metadata": {
    "colab": {
      "provenance": [],
      "gpuType": "T4"
    },
    "kernelspec": {
      "name": "python3",
      "display_name": "Python 3"
    },
    "language_info": {
      "name": "python"
    },
    "accelerator": "GPU"
  },
  "cells": [
    {
      "cell_type": "markdown",
      "source": [
        "RSAسیستم احراز هویت پیام‌ها با استفاده از کلیدهای\n",
        "\n"
      ],
      "metadata": {
        "id": "2l9hYfydXfwQ"
      }
    },
    {
      "cell_type": "code",
      "execution_count": 31,
      "metadata": {
        "id": "i0wyqBUPTOuu"
      },
      "outputs": [],
      "source": [
        "import rsa\n",
        "import time\n",
        "import sqlite3\n",
        "import matplotlib.pyplot as plt\n"
      ]
    },
    {
      "cell_type": "code",
      "source": [
        "\n",
        "\n",
        "# ایجاد پایگاه داده در حافظه\n",
        "conn = sqlite3.connect(':memory:')\n",
        "cursor = conn.cursor()\n",
        "\n",
        "# ایجاد جدول کاربران\n",
        "cursor.execute('''\n",
        "CREATE TABLE users (\n",
        "    id INTEGER PRIMARY KEY AUTOINCREMENT,\n",
        "    username TEXT UNIQUE,\n",
        "    public_key TEXT,\n",
        "    private_key TEXT,\n",
        "    role TEXT,\n",
        "    status TEXT\n",
        ")\n",
        "''')\n",
        "\n",
        "# ایجاد جدول پیام‌ها\n",
        "cursor.execute('''\n",
        "CREATE TABLE messages (\n",
        "    id INTEGER PRIMARY KEY AUTOINCREMENT,\n",
        "    sender_id INTEGER,\n",
        "    message TEXT,\n",
        "    signature TEXT,\n",
        "    timestamp DATETIME DEFAULT CURRENT_TIMESTAMP,\n",
        "    verified BOOLEAN,\n",
        "    FOREIGN KEY (sender_id) REFERENCES users (id)\n",
        ")\n",
        "''')\n",
        "\n",
        "print(\"پایگاه داده و جداول ایجاد شدند.\")\n"
      ],
      "metadata": {
        "colab": {
          "base_uri": "https://localhost:8080/"
        },
        "id": "4YbYxBk4T8Cz",
        "outputId": "25788ea4-2b1d-4aa7-8de2-ec4fe7685efc"
      },
      "execution_count": 41,
      "outputs": [
        {
          "output_type": "stream",
          "name": "stdout",
          "text": [
            "پایگاه داده و جداول ایجاد شدند.\n"
          ]
        }
      ]
    },
    {
      "cell_type": "code",
      "source": [
        "from cryptography.hazmat.primitives.asymmetric import rsa\n",
        "from cryptography.hazmat.primitives import serialization\n",
        "\n",
        "def generate_rsa_keys():\n",
        "    # تولید کلید خصوصی\n",
        "    private_key = rsa.generate_private_key(\n",
        "        public_exponent=65537,\n",
        "        key_size=2048\n",
        "    )\n",
        "\n",
        "    # تبدیل کلید خصوصی به فرمت PEM\n",
        "    private_key_pem = private_key.private_bytes(\n",
        "        encoding=serialization.Encoding.PEM,\n",
        "        format=serialization.PrivateFormat.TraditionalOpenSSL,\n",
        "        encryption_algorithm=serialization.NoEncryption()\n",
        "    ).decode('utf-8')\n",
        "\n",
        "    # تولید کلید عمومی\n",
        "    public_key = private_key.public_key()\n",
        "    public_key_pem = public_key.public_bytes(\n",
        "        encoding=serialization.Encoding.PEM,\n",
        "        format=serialization.PublicFormat.SubjectPublicKeyInfo\n",
        "    ).decode('utf-8')\n",
        "\n",
        "    return private_key_pem, public_key_pem\n"
      ],
      "metadata": {
        "id": "z45iE5r4UhR5"
      },
      "execution_count": 42,
      "outputs": []
    },
    {
      "cell_type": "code",
      "source": [
        "def register_user(username, role):\n",
        "    private_key, public_key = generate_rsa_keys()\n",
        "    cursor.execute('''\n",
        "    INSERT INTO users (username, public_key, private_key, role, status)\n",
        "    VALUES (?, ?, ?, ?, ?)\n",
        "    ''', (username, public_key, private_key, role, 'active'))\n",
        "    conn.commit()\n",
        "    print(f\"کاربر {username} با موفقیت ثبت شد.\")\n",
        "\n",
        "# ثبت‌نام نمونه کاربران\n",
        "register_user(\"user1\", \"کاربر\")\n",
        "register_user(\"admin1\", \"مدیر\")\n"
      ],
      "metadata": {
        "colab": {
          "base_uri": "https://localhost:8080/"
        },
        "id": "QdrEN1FMPIf0",
        "outputId": "ebad4d97-856e-4b77-e5b2-b8d5b2d51e00"
      },
      "execution_count": 43,
      "outputs": [
        {
          "output_type": "stream",
          "name": "stdout",
          "text": [
            "کاربر user1 با موفقیت ثبت شد.\n",
            "کاربر admin1 با موفقیت ثبت شد.\n"
          ]
        }
      ]
    },
    {
      "cell_type": "code",
      "source": [
        "# ثبت یک کاربر نمونه\n",
        "register_user(\"Hasti\", \"کاربر\")\n",
        "\n",
        "# نمایش کاربران ثبت‌شده\n",
        "def list_users():\n",
        "    cursor.execute(\"SELECT id, username, role, status FROM users\")\n",
        "    for user in cursor.fetchall():\n",
        "        print(user)\n",
        "\n",
        "# لیست کاربران\n",
        "list_users()\n"
      ],
      "metadata": {
        "colab": {
          "base_uri": "https://localhost:8080/"
        },
        "id": "UiqgfiCXiQx6",
        "outputId": "9501cd7b-72cb-4168-d619-29f8512cff65"
      },
      "execution_count": 35,
      "outputs": [
        {
          "output_type": "stream",
          "name": "stdout",
          "text": [
            "کاربر 'Hasti' ثبت شد.\n",
            "(1, 'Hasti', 'کاربر', 'active')\n"
          ]
        }
      ]
    },
    {
      "cell_type": "code",
      "source": [
        "from cryptography.hazmat.primitives import hashes\n",
        "from cryptography.hazmat.primitives.asymmetric import padding\n",
        "\n",
        "def send_message(username, message_text):\n",
        "    # بازیابی کلید خصوصی کاربر\n",
        "    cursor.execute('SELECT id, private_key FROM users WHERE username = ?', (username,))\n",
        "    user = cursor.fetchone()\n",
        "    if not user:\n",
        "        print(\"کاربر یافت نشد.\")\n",
        "        return\n",
        "\n",
        "    user_id, private_key_pem = user\n",
        "    private_key = serialization.load_pem_private_key(\n",
        "        private_key_pem.encode('utf-8'),\n",
        "        password=None\n",
        "    )\n",
        "\n",
        "    # امضای پیام\n",
        "    signature = private_key.sign(\n",
        "        message_text.encode('utf-8'),\n",
        "        padding.PKCS1v15(),\n",
        "        hashes.SHA256()\n",
        "    )\n",
        "\n",
        "    # ذخیره پیام\n",
        "    cursor.execute('''\n",
        "    INSERT INTO messages (sender_id, message, signature, verified)\n",
        "    VALUES (?, ?, ?, ?)\n",
        "    ''', (user_id, message_text, signature.hex(), False))\n",
        "    conn.commit()\n",
        "    print(f\"پیام ارسال شد: {message_text}\")\n",
        "\n",
        "# ارسال نمونه پیام\n",
        "send_message(\"user1\", \"این یک پیام تست است.\")\n"
      ],
      "metadata": {
        "colab": {
          "base_uri": "https://localhost:8080/"
        },
        "id": "F9USB2yLildq",
        "outputId": "b6e1c0f7-d635-407e-ecc2-f11a1ca9f382"
      },
      "execution_count": 44,
      "outputs": [
        {
          "output_type": "stream",
          "name": "stdout",
          "text": [
            "پیام ارسال شد: این یک پیام تست است.\n"
          ]
        }
      ]
    },
    {
      "cell_type": "code",
      "source": [
        "def verify_message(message_id):\n",
        "    # بازیابی اطلاعات پیام و فرستنده\n",
        "    cursor.execute('''\n",
        "    SELECT m.message, m.signature, u.public_key\n",
        "    FROM messages m\n",
        "    JOIN users u ON m.sender_id = u.id\n",
        "    WHERE m.id = ?\n",
        "    ''', (message_id,))\n",
        "    record = cursor.fetchone()\n",
        "    if not record:\n",
        "        print(\"پیام یافت نشد.\")\n",
        "        return\n",
        "\n",
        "    message, signature_hex, public_key_pem = record\n",
        "    signature = bytes.fromhex(signature_hex)\n",
        "    public_key = serialization.load_pem_public_key(public_key_pem.encode('utf-8'))\n",
        "\n",
        "    # احراز هویت امضا\n",
        "    try:\n",
        "        public_key.verify(\n",
        "            signature,\n",
        "            message.encode('utf-8'),\n",
        "            padding.PKCS1v15(),\n",
        "            hashes.SHA256()\n",
        "        )\n",
        "        cursor.execute('UPDATE messages SET verified = ? WHERE id = ?', (True, message_id))\n",
        "        conn.commit()\n",
        "        print(\"پیام با موفقیت احراز هویت شد.\")\n",
        "    except Exception as e:\n",
        "        print(\"احراز هویت پیام شکست خورد:\", str(e))\n",
        "\n",
        "# احراز هویت نمونه پیام\n",
        "verify_message(1)\n"
      ],
      "metadata": {
        "colab": {
          "base_uri": "https://localhost:8080/"
        },
        "id": "YpEVj8UPiteb",
        "outputId": "3db9a6e0-8195-4767-eed0-06fc1014a9c1"
      },
      "execution_count": 50,
      "outputs": [
        {
          "output_type": "stream",
          "name": "stdout",
          "text": [
            "پیام با موفقیت احراز هویت شد.\n"
          ]
        }
      ]
    },
    {
      "cell_type": "code",
      "source": [
        "def plot_accuracy():\n",
        "    \"\"\"\n",
        "    Calculate and visualize the accuracy of message authentication.\n",
        "    \"\"\"\n",
        "    # Retrieve total number of messages\n",
        "    cursor.execute(\"SELECT COUNT(*) FROM messages\")\n",
        "    total_messages = cursor.fetchone()[0]\n",
        "\n",
        "    # Retrieve number of verified messages\n",
        "    cursor.execute(\"SELECT COUNT(*) FROM messages WHERE verified = 1\")\n",
        "    verified_messages = cursor.fetchone()[0]\n",
        "\n",
        "    # Calculate accuracy\n",
        "    if total_messages > 0:\n",
        "        accuracy = (verified_messages / total_messages) * 100\n",
        "    else:\n",
        "        accuracy = 0\n",
        "\n",
        "    # Display accuracy\n",
        "    print(f\"Message authentication accuracy: {accuracy:.2f}%\")\n",
        "\n",
        "    # Plot pie chart\n",
        "    labels = [\"Verified Messages\", \"Unverified Messages\"]\n",
        "    values = [verified_messages, total_messages - verified_messages]\n",
        "\n",
        "    plt.pie(\n",
        "        values,\n",
        "        labels=labels,\n",
        "        autopct=\"%1.1f%%\",\n",
        "        startangle=90,\n",
        "        colors=[\"green\", \"red\"],\n",
        "    )\n",
        "    plt.title(\"Message Authentication Accuracy\")\n",
        "    plt.axis(\"equal\")  # Ensures the chart is circular\n",
        "    plt.show()\n",
        "\n",
        "# Call the plot_accuracy function\n",
        "plot_accuracy()\n"
      ],
      "metadata": {
        "colab": {
          "base_uri": "https://localhost:8080/",
          "height": 453
        },
        "id": "W8GQ52guW8Q4",
        "outputId": "df30415d-4f3e-4869-8248-4f1e996fab28"
      },
      "execution_count": 52,
      "outputs": [
        {
          "output_type": "stream",
          "name": "stdout",
          "text": [
            "Message authentication accuracy: 100.00%\n"
          ]
        },
        {
          "output_type": "display_data",
          "data": {
            "text/plain": [
              "<Figure size 640x480 with 1 Axes>"
            ],
            "image/png": "[encoded data removed]"
          },
          "metadata": {}
        }
      ]
    }
  ]
}